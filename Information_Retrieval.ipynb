{
 "cells": [
  {
   "cell_type": "markdown",
   "metadata": {},
   "source": [
    "## Instance of TD-IDF and QueryEngine\n",
    "\n",
    "* **TD-IDF**: implement tf-idf algorithms\n",
    "* **QueryEngine**: Implement query function based on tf-idf and recommend the related movies\n",
    "    * *text_preprocessing(doc_all, remove_stopwords=False, selective_POS=[])*\n",
    "        - `doc_all` (list of dict): the token list of each movie corpus data\n",
    "        - `remove_stopwords` (boolean): whether filter the stopwords\n",
    "        - `selective_POS` (string of list): add the POS tag into the list, and the function will filter tokens not in the pos list"
   ]
  },
  {
   "cell_type": "code",
   "execution_count": 1,
   "metadata": {},
   "outputs": [],
   "source": [
    "import math\n",
    "import numpy as np\n",
    "\n",
    "class TF_IDF():\n",
    "    def bag_of_word(self, token_doclist):\n",
    "        bag_words = list()\n",
    "        for key in doc_all.keys():\n",
    "            bag_words += doc_all[key]\n",
    "        \n",
    "        bag_words = set(bag_words)\n",
    "        return bag_words\n",
    "    \n",
    "    def tf(self, term, token_doc):\n",
    "        tf = token_doc.count(term)/len(token_doc)\n",
    "        return tf\n",
    "\n",
    "    # create function to calculate how many doc contain the term \n",
    "    def numDocsContaining(self, word, token_doclist):\n",
    "        doccount = 0\n",
    "        for doc_token in token_doclist:\n",
    "            if doc_token.count(word) > 0:\n",
    "                doccount +=1\n",
    "        return doccount\n",
    "    \n",
    "    # create function to calculate  Inverse Document Frequency in doclist - this list of all documents\n",
    "    def idf(self, word, token_doclist):\n",
    "        n = len(token_doclist)\n",
    "        df = self.numDocsContaining(word, token_doclist)\n",
    "        return math.log10(n/df)\n",
    "    \n",
    "    # calculate idf for every word in bag_words\n",
    "    def bow_idf(self, token_doclist):\n",
    "        bow = self.bag_of_word(token_doclist)\n",
    "        \n",
    "        bag_words_idf = dict()\n",
    "        \n",
    "        bag_words_len = len(bow)\n",
    "        bag_word_10 = round(bag_words_len/10,0)\n",
    "        print(\"the number of term in bag_word\", bag_words_len)\n",
    "        print(\"Start idf processing\")\n",
    "        \n",
    "        i=0\n",
    "        for word in bow:\n",
    "            i+=1\n",
    "            bag_words_idf[word] = self.idf(word, token_doclist)\n",
    "            \n",
    "            if (i%bag_word_10==0):print(\"finish %s idf processing\" %(str(round(i*10/bag_word_10))+\"%\"))\n",
    "            bag_words_idf[word]= self.idf(word,doc_all.values())\n",
    "        \n",
    "        print(\"finish idf processing\")\n",
    "        return bag_words_idf\n",
    "\n",
    "    # define a function to do cosine normalization a data dictionary\n",
    "    def cos_norm(self, dic): # dic is distionary data structure\n",
    "        dic_norm = {}\n",
    "        factor = 1.0/np.sqrt(sum([np.square(i) for i in dic.values()]))\n",
    "        for k in dic:\n",
    "            dic_norm[k] = dic[k]*factor\n",
    "        return dic_norm\n",
    "\n",
    "    # create function to calculate normalize tfidf \n",
    "    def compute_tfidf(self, token_doc, bag_words_idf):\n",
    "        tfidf_doc = {}\n",
    "        for word in set(token_doc):\n",
    "            tfidf_doc[word] = self.tf(word,token_doc) * bag_words_idf[word]   \n",
    "        tfidf_norm = self.cos_norm(tfidf_doc)\n",
    "        return tfidf_norm\n",
    "    \n",
    "    def tfidf(self, token_doclist, bag_words_idf):\n",
    "        tfidf = {}\n",
    "        \n",
    "        for doc in doc_all.keys():\n",
    "            tfidf[doc]= self.compute_tfidf(doc_all[doc], bag_words_idf)\n",
    "        \n",
    "        finish_time = datetime.now(timezone('Asia/Taipei')).strftime(\"%H:%M:%S\")\n",
    "        \n",
    "        print(\"finish tfidf processing at\", finish_time)\n",
    "        return tfidf\n",
    "\n",
    "    # create normalize term frequency\n",
    "    def tf_norm(self, token_doc):\n",
    "        tf_norm={}\n",
    "        for term in token_doc:\n",
    "            tf = token_doc.count(term)/len(token_doc)\n",
    "            tf_norm[term] = tf\n",
    "        tf_max = max(tf_norm.values())\n",
    "        for term, value in tf_norm.items():\n",
    "            tf_norm[term] = 0.5 + 0.5*value/tf_max\n",
    "        return tf_norm\n",
    "\n",
    "    def compute_tfidf_query(self, query_token, bag_words_idf):\n",
    "        tfidf_query = {}\n",
    "        tf_norm_query = self.tf_norm(query_token)\n",
    "        for term, value in tf_norm_query.items():\n",
    "            tfidf_query[term] = value * bag_words_idf[term]\n",
    "        return tfidf_query"
   ]
  },
  {
   "cell_type": "code",
   "execution_count": 2,
   "metadata": {},
   "outputs": [
    {
     "name": "stderr",
     "output_type": "stream",
     "text": [
      "[nltk_data] Downloading package punkt to /Users/jensonsu/nltk_data...\n",
      "[nltk_data]   Package punkt is already up-to-date!\n"
     ]
    }
   ],
   "source": [
    "import os\n",
    "import nltk\n",
    "from nltk.corpus import stopwords\n",
    "from nltk import pos_tag\n",
    "from datetime import datetime\n",
    "from pytz import timezone\n",
    "import pandas as pd\n",
    "from scipy.spatial.distance import cosine\n",
    "import matplotlib.pyplot as plt\n",
    "\n",
    "now = datetime.now(timezone('Asia/Taipei'))\n",
    "nltk.download('punkt')\n",
    "\n",
    "\n",
    "class QueryEngine(TF_IDF):\n",
    "    def __init__(self):\n",
    "        self.stopwords = self._load_stopwords()\n",
    "        \n",
    "    def _load_stopwords(self):\n",
    "        sw = set(stopwords.words('english'))\n",
    "        my_stopwords = [\".\", \",\", \"'ll\", \"'re\", \"'s\", \"!\", \"'ve\", \",', \", \"''\", \"``\", \"--\", \"n't\", \"?\"]\n",
    "        sw = list(sw) + my_stopwords\n",
    "        return sw\n",
    "        \n",
    "    def load_data_and_tokenize(self, file_path):\n",
    "        doc_all = dict()\n",
    "        \n",
    "        for filename in os.listdir(file_path):\n",
    "            fileExtension = filename.split(\".\")[-1]\n",
    "            if fileExtension == \"txt\":\n",
    "                text = open(file_path + filename).read()\n",
    "                tokens = nltk.word_tokenize(text)\n",
    "                token_filtered = [w.lower() for w in tokens if w.isalpha()]\n",
    "                doc_all[filename[:-4]] = token_filtered\n",
    "        return doc_all\n",
    "    \n",
    "    def text_preprocessing(self, doc_all, remove_stopwords=False, selective_POS=[]):\n",
    "        if remove_stopwords == True:\n",
    "            for key in doc_all.keys():\n",
    "                doc_all[key] = [w for w in doc_all[key] if w not in self.stopwords]\n",
    "                \n",
    "        if selective_POS != []:\n",
    "            for key in doc_all.keys():\n",
    "                pos_tokens_list = nltk.pos_tag(doc_all[key])\n",
    "                \n",
    "                selective_pos_tkns = []\n",
    "                for tkn in pos_tokens_list:\n",
    "                    if tkn[1] in selective_POS:\n",
    "                        selective_pos_tkns.append(tkn[0])\n",
    "\n",
    "                doc_all[key] = selective_pos_tkns\n",
    "        return doc_all\n",
    "    \n",
    "    def tfidf_query(self, doc_all, bow_idf, query, topK=10):\n",
    "        query_token_raw = nltk.word_tokenize(query)\n",
    "        query_token = [term for term in query_token_raw if term in qe.bag_of_word(doc_all)]\n",
    "        query_result = self.compute_tfidf_query(query_token, bow_idf) # calculate tfidf for query text\n",
    "        \n",
    "        # add tfidf of query text to tfidf of all doc and convert to dataframe\n",
    "        tfidf = self.tfidf(doc_all, bow_idf)\n",
    "        tfidf[\"query\"] = query_result\n",
    "\n",
    "        \n",
    "        tfidf_df = pd.DataFrame(tfidf).transpose()\n",
    "        tfidf_df= tfidf_df.fillna(0) # replace all NaN by zero\n",
    "        \n",
    "        cosine_sim = {}\n",
    "        for row in tfidf_df.index:\n",
    "            if row != \"query\":\n",
    "                cosine_sim[row]= 1-cosine(tfidf_df.loc[row],tfidf_df.loc[\"query\"])\n",
    "\n",
    "        # the top k relevant document\n",
    "        cosine_sim_topK = dict(sorted(cosine_sim.items(), key=lambda item: item[1], reverse=True)[:topK])\n",
    "        \n",
    "        return cosine_sim_topK\n",
    "    \n",
    "    def show_plot(self, query_result, isSave=False, file_name=''):\n",
    "        data = query_result\n",
    "        plt.barh(range(len(data)), list(data.values()), align='center', alpha=0.8)\n",
    "        plt.yticks(range(len(data)), list(data.keys())) # label for y axis\n",
    "        plt.xlabel('Smimilarity score')\n",
    "        plt.ylabel('Course')\n",
    "\n",
    "        # save graph\n",
    "        if isSave:\n",
    "            if not file_name:\n",
    "                file_name = 'barchart'\n",
    "            plt.savefig(file_name+\".png\", bbox_inches='tight', dpi=600)\n",
    "            \n",
    "        plt.show()"
   ]
  },
  {
   "cell_type": "markdown",
   "metadata": {},
   "source": [
    "### (b) without feature selection"
   ]
  },
  {
   "cell_type": "code",
   "execution_count": 3,
   "metadata": {},
   "outputs": [
    {
     "name": "stdout",
     "output_type": "stream",
     "text": [
      "the number of term in bag_word 23885\n",
      "Start idf processing\n",
      "finish 10% idf processing\n",
      "finish 20% idf processing\n",
      "finish 30% idf processing\n",
      "finish 40% idf processing\n",
      "finish 50% idf processing\n",
      "finish 60% idf processing\n",
      "finish 70% idf processing\n",
      "finish 80% idf processing\n",
      "finish 90% idf processing\n",
      "finish 100% idf processing\n",
      "finish idf processing\n"
     ]
    }
   ],
   "source": [
    "qe = QueryEngine()\n",
    "\n",
    "doc_all = qe.load_data_and_tokenize('movies_synopsis/')\n",
    "bow_idf = qe.bow_idf(doc_all.values())"
   ]
  },
  {
   "cell_type": "code",
   "execution_count": 7,
   "metadata": {},
   "outputs": [
    {
     "name": "stdout",
     "output_type": "stream",
     "text": [
      "finish tfidf processing at 21:37:34\n",
      "{'In the Mood for Love (2000)': 0.04942198684308974, 'Cinema Paradiso (1988)': 0.0385791014468162, 'Oldboy (2003)': 0.029868813671959704, 'Hachi_ A Dog_s Tale (2009)': 0.02053368803751121, 'PK (2014)': 0.018155635829057437, 'Memento (2000)': 0.017433973952850512, 'Children of Heaven (1997)': 0.016313515745064233, 'City of God (2002)': 0.016193535042648532, 'The Green Mile (1999)': 0.013793802392584875, 'Forrest Gump (1994)': 0.012222308729605835}\n"
     ]
    },
    {
     "data": {
      "image/png": "[encoded data removed]",
      "text/plain": [
       "<Figure size 432x288 with 1 Axes>"
      ]
     },
     "metadata": {
      "needs_background": "light"
     },
     "output_type": "display_data"
    }
   ],
   "source": [
    "query = \"love and lies movie\"\n",
    "tfidf_query_result = qe.tfidf_query(doc_all, bow_idf, query)\n",
    "print(tfidf_query_result)\n",
    "\n",
    "qe.show_plot(tfidf_query_result, isSave=True, file_name='barchart')"
   ]
  },
  {
   "cell_type": "markdown",
   "metadata": {},
   "source": [
    "### (c) feature selection"
   ]
  },
  {
   "cell_type": "code",
   "execution_count": 5,
   "metadata": {},
   "outputs": [
    {
     "name": "stdout",
     "output_type": "stream",
     "text": [
      "the number of term in bag_word 18800\n",
      "Start idf processing\n",
      "finish 10% idf processing\n",
      "finish 20% idf processing\n",
      "finish 30% idf processing\n",
      "finish 40% idf processing\n",
      "finish 50% idf processing\n",
      "finish 60% idf processing\n",
      "finish 70% idf processing\n",
      "finish 80% idf processing\n",
      "finish 90% idf processing\n",
      "finish 100% idf processing\n",
      "finish idf processing\n"
     ]
    }
   ],
   "source": [
    "doc_all = qe.load_data_and_tokenize('movies_synopsis/')\n",
    "\n",
    "doc_all_feature = qe.text_preprocessing(doc_all, remove_stopwords=True, selective_POS=['NN','NNS', 'NNP', 'NNPS', 'JJ'])\n",
    "bow_idf_feature = qe.bow_idf(doc_all_feature.values())"
   ]
  },
  {
   "cell_type": "code",
   "execution_count": 8,
   "metadata": {},
   "outputs": [
    {
     "name": "stdout",
     "output_type": "stream",
     "text": [
      "finish tfidf processing at 21:37:41\n",
      "{'In the Mood for Love (2000)': 0.042137660069727856, 'Cinema Paradiso (1988)': 0.03694920966838744, 'PK (2014)': 0.025949691830797983, 'Oldboy (2003)': 0.023062456294986045, 'Tokyo Story (1953)': 0.021486144715952227, 'Memento (2000)': 0.01793460213677367, 'Hachi_ A Dog_s Tale (2009)': 0.013825611298418194, 'Dead Poets Society (1989)': 0.0131323313346835, 'The Green Mile (1999)': 0.011060067522167594, 'City of God (2002)': 0.010966067508138555}\n"
     ]
    },
    {
     "data": {
      "image/png": "[encoded data removed]",
      "text/plain": [
       "<Figure size 432x288 with 1 Axes>"
      ]
     },
     "metadata": {
      "needs_background": "light"
     },
     "output_type": "display_data"
    }
   ],
   "source": [
    "query = \"love and lies movie\"\n",
    "tfidf_query_result = qe.tfidf_query(doc_all_feature, bow_idf_feature, query)\n",
    "print(tfidf_query_result)\n",
    "\n",
    "qe.show_plot(tfidf_query_result, isSave=True, file_name='barchart_after_selection')"
   ]
  },
  {
   "cell_type": "code",
   "execution_count": null,
   "metadata": {},
   "outputs": [],
   "source": []
  }
 ],
 "metadata": {
  "colab": {
   "collapsed_sections": [],
   "name": "Information Retrieval - Homework sample code.ipynb",
   "provenance": [],
   "toc_visible": true
  },
  "kernelspec": {
   "display_name": "Python 3",
   "language": "python",
   "name": "python3"
  },
  "language_info": {
   "codemirror_mode": {
    "name": "ipython",
    "version": 3
   },
   "file_extension": ".py",
   "mimetype": "text/x-python",
   "name": "python",
   "nbconvert_exporter": "python",
   "pygments_lexer": "ipython3",
   "version": "3.7.3"
  }
 },
 "nbformat": 4,
 "nbformat_minor": 1
}
